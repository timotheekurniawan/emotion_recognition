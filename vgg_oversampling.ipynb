{
  "nbformat": 4,
  "nbformat_minor": 0,
  "metadata": {
    "colab": {
      "name": "new_vgg_oversampling.ipynb",
      "provenance": [],
      "collapsed_sections": [],
      "machine_shape": "hm"
    },
    "kernelspec": {
      "name": "python3",
      "display_name": "Python 3"
    },
    "accelerator": "GPU"
  },
  "cells": [
    {
      "cell_type": "code",
      "metadata": {
        "id": "-Z8uahZMnRCX"
      },
      "source": [
        "import pandas as pd\n",
        "import numpy as np \n",
        "import matplotlib.pyplot as plt \n",
        "import tensorflow as tf\n",
        "from tensorflow import keras\n",
        "from tensorflow.keras import layers, Sequential\n",
        "import io\n",
        "from keras.preprocessing.image import ImageDataGenerator\n",
        "from sklearn.utils import resample\n",
        "from keras.callbacks import ReduceLROnPlateau, EarlyStopping, ModelCheckpoint\n",
        "\n"
      ],
      "execution_count": null,
      "outputs": []
    },
    {
      "cell_type": "code",
      "metadata": {
        "colab": {
          "base_uri": "https://localhost:8080/"
        },
        "id": "r71EuR7enS3M",
        "outputId": "dd36da94-cde1-4469-914c-42604df48289"
      },
      "source": [
        "from google.colab import drive\n",
        "drive.mount('/content/gdrive')"
      ],
      "execution_count": null,
      "outputs": [
        {
          "output_type": "stream",
          "text": [
            "Mounted at /content/gdrive\n"
          ],
          "name": "stdout"
        }
      ]
    },
    {
      "cell_type": "code",
      "metadata": {
        "id": "lU0lhFgbnYD7"
      },
      "source": [
        "dataset=pd.read_csv(\"/content/gdrive/My Drive/Colab Notebooks/fer2013.csv\")\n"
      ],
      "execution_count": null,
      "outputs": []
    },
    {
      "cell_type": "code",
      "metadata": {
        "colab": {
          "base_uri": "https://localhost:8080/",
          "height": 399
        },
        "id": "YQBGZc9hnaHe",
        "outputId": "25875f01-7982-4650-893e-3727c1367a48"
      },
      "source": [
        "dataset = dataset.loc[dataset[\"emotion\"]!=1]\n",
        "def balancingDataset(x):\n",
        "  new_df=dataset.loc[dataset['emotion']==x]\n",
        "  data_to_add=9000-len(new_df)\n",
        "  random_sampling=resample(new_df,random_state=42,replace=True,n_samples=data_to_add)\n",
        "  return pd.concat([new_df,random_sampling])\n",
        "\n",
        "df_0=balancingDataset(0)\n",
        "df_2=balancingDataset(2)\n",
        "df_3=balancingDataset(3)\n",
        "df_4=balancingDataset(4)\n",
        "df_5=balancingDataset(5)\n",
        "df_6=balancingDataset(6)\n",
        "\n",
        "\n",
        "dataset=pd.concat([df_0,df_2,df_3,df_4,df_5,df_6])\n",
        "dataset"
      ],
      "execution_count": null,
      "outputs": [
        {
          "output_type": "execute_result",
          "data": {
            "text/html": [
              "<div>\n",
              "<style scoped>\n",
              "    .dataframe tbody tr th:only-of-type {\n",
              "        vertical-align: middle;\n",
              "    }\n",
              "\n",
              "    .dataframe tbody tr th {\n",
              "        vertical-align: top;\n",
              "    }\n",
              "\n",
              "    .dataframe thead th {\n",
              "        text-align: right;\n",
              "    }\n",
              "</style>\n",
              "<table border=\"1\" class=\"dataframe\">\n",
              "  <thead>\n",
              "    <tr style=\"text-align: right;\">\n",
              "      <th></th>\n",
              "      <th>emotion</th>\n",
              "      <th>pixels</th>\n",
              "      <th>Usage</th>\n",
              "    </tr>\n",
              "  </thead>\n",
              "  <tbody>\n",
              "    <tr>\n",
              "      <th>0</th>\n",
              "      <td>0</td>\n",
              "      <td>70 80 82 72 58 58 60 63 54 58 60 48 89 115 121...</td>\n",
              "      <td>Training</td>\n",
              "    </tr>\n",
              "    <tr>\n",
              "      <th>1</th>\n",
              "      <td>0</td>\n",
              "      <td>151 150 147 155 148 133 111 140 170 174 182 15...</td>\n",
              "      <td>Training</td>\n",
              "    </tr>\n",
              "    <tr>\n",
              "      <th>10</th>\n",
              "      <td>0</td>\n",
              "      <td>30 24 21 23 25 25 49 67 84 103 120 125 130 139...</td>\n",
              "      <td>Training</td>\n",
              "    </tr>\n",
              "    <tr>\n",
              "      <th>22</th>\n",
              "      <td>0</td>\n",
              "      <td>123 125 124 142 209 226 234 236 231 232 235 22...</td>\n",
              "      <td>Training</td>\n",
              "    </tr>\n",
              "    <tr>\n",
              "      <th>23</th>\n",
              "      <td>0</td>\n",
              "      <td>8 9 14 21 26 32 37 46 52 62 72 70 71 73 76 83 ...</td>\n",
              "      <td>Training</td>\n",
              "    </tr>\n",
              "    <tr>\n",
              "      <th>...</th>\n",
              "      <td>...</td>\n",
              "      <td>...</td>\n",
              "      <td>...</td>\n",
              "    </tr>\n",
              "    <tr>\n",
              "      <th>33468</th>\n",
              "      <td>6</td>\n",
              "      <td>75 96 96 51 50 48 30 27 19 22 20 11 16 23 75 1...</td>\n",
              "      <td>PrivateTest</td>\n",
              "    </tr>\n",
              "    <tr>\n",
              "      <th>26433</th>\n",
              "      <td>6</td>\n",
              "      <td>47 45 52 45 4 8 2 11 40 59 68 41 14 32 51 78 5...</td>\n",
              "      <td>Training</td>\n",
              "    </tr>\n",
              "    <tr>\n",
              "      <th>34343</th>\n",
              "      <td>6</td>\n",
              "      <td>23 14 14 9 29 30 35 43 32 47 46 57 67 78 96 98...</td>\n",
              "      <td>PrivateTest</td>\n",
              "    </tr>\n",
              "    <tr>\n",
              "      <th>28551</th>\n",
              "      <td>6</td>\n",
              "      <td>99 105 107 113 115 116 120 121 123 133 120 109...</td>\n",
              "      <td>Training</td>\n",
              "    </tr>\n",
              "    <tr>\n",
              "      <th>21404</th>\n",
              "      <td>6</td>\n",
              "      <td>170 183 172 188 177 172 174 180 187 191 192 19...</td>\n",
              "      <td>Training</td>\n",
              "    </tr>\n",
              "  </tbody>\n",
              "</table>\n",
              "<p>54000 rows × 3 columns</p>\n",
              "</div>"
            ],
            "text/plain": [
              "       emotion                                             pixels        Usage\n",
              "0            0  70 80 82 72 58 58 60 63 54 58 60 48 89 115 121...     Training\n",
              "1            0  151 150 147 155 148 133 111 140 170 174 182 15...     Training\n",
              "10           0  30 24 21 23 25 25 49 67 84 103 120 125 130 139...     Training\n",
              "22           0  123 125 124 142 209 226 234 236 231 232 235 22...     Training\n",
              "23           0  8 9 14 21 26 32 37 46 52 62 72 70 71 73 76 83 ...     Training\n",
              "...        ...                                                ...          ...\n",
              "33468        6  75 96 96 51 50 48 30 27 19 22 20 11 16 23 75 1...  PrivateTest\n",
              "26433        6  47 45 52 45 4 8 2 11 40 59 68 41 14 32 51 78 5...     Training\n",
              "34343        6  23 14 14 9 29 30 35 43 32 47 46 57 67 78 96 98...  PrivateTest\n",
              "28551        6  99 105 107 113 115 116 120 121 123 133 120 109...     Training\n",
              "21404        6  170 183 172 188 177 172 174 180 187 191 192 19...     Training\n",
              "\n",
              "[54000 rows x 3 columns]"
            ]
          },
          "metadata": {
            "tags": []
          },
          "execution_count": 4
        }
      ]
    },
    {
      "cell_type": "code",
      "metadata": {
        "id": "QsB3rtcTndRc"
      },
      "source": [
        "def convert_pixels_to_img(pixels):\n",
        "    test_image = pixels.reshape(48,48,1)\n",
        "    return test_image\n",
        "\n",
        "def split_pixels(string):\n",
        "    splitted = np.array(string.split(),'int')\n",
        "    return splitted \n",
        "\n",
        "def change_to_categorical(sample):\n",
        "    return keras.utils.to_categorical(sample,num_classes=7)\n"
      ],
      "execution_count": null,
      "outputs": []
    },
    {
      "cell_type": "code",
      "metadata": {
        "id": "2qK7UsGUne1f"
      },
      "source": [
        "dataset['pixels'] = dataset['pixels'].apply(split_pixels)\n",
        "dataset['label'] = dataset['emotion'].apply(change_to_categorical)\n",
        "dataset['length'] = dataset['pixels'].apply(len)\n",
        "\n",
        "dataset = dataset[dataset.length == 2304]\n",
        "dataset['image'] = dataset['pixels'].apply(convert_pixels_to_img)"
      ],
      "execution_count": null,
      "outputs": []
    },
    {
      "cell_type": "code",
      "metadata": {
        "id": "uYc8OQNOngUe"
      },
      "source": [
        "grouped_dataset = dataset.groupby(dataset.Usage)\n",
        "training_dataset = grouped_dataset.get_group(\"Training\")\n",
        "dev_dataset = grouped_dataset.get_group(\"PublicTest\")\n",
        "test_dataset = grouped_dataset.get_group(\"PrivateTest\")"
      ],
      "execution_count": null,
      "outputs": []
    },
    {
      "cell_type": "code",
      "metadata": {
        "colab": {
          "base_uri": "https://localhost:8080/"
        },
        "id": "r2azuxs_niWM",
        "outputId": "2a5e2aa4-34a1-4927-fc44-3e974782ae7c"
      },
      "source": [
        "model = keras.Sequential()\n",
        "model.add(layers.Conv2D(input_shape=(48,48,1),filters=64,kernel_size=(3,3),padding=\"same\", activation=\"relu\"))\n",
        "model.add(layers.Conv2D(filters=64,kernel_size=(3,3),padding=\"same\", activation=\"relu\"))\n",
        "model.add(layers.MaxPool2D(pool_size=(2,2),strides=(2,2)))\n",
        "model.add(layers.Conv2D(filters=128, kernel_size=(3,3), padding=\"same\", activation=\"relu\"))\n",
        "model.add(layers.Conv2D(filters=128, kernel_size=(3,3), padding=\"same\", activation=\"relu\"))\n",
        "model.add(layers.MaxPool2D(pool_size=(2,2),strides=(2,2)))\n",
        "model.add(layers.Conv2D(filters=256, kernel_size=(3,3), padding=\"same\", activation=\"relu\"))\n",
        "model.add(layers.Conv2D(filters=256, kernel_size=(3,3), padding=\"same\", activation=\"relu\"))\n",
        "model.add(layers.Conv2D(filters=256, kernel_size=(3,3), padding=\"same\", activation=\"relu\"))\n",
        "model.add(layers.MaxPool2D(pool_size=(2,2),strides=(2,2)))\n",
        "model.add(layers.Conv2D(filters=512, kernel_size=(3,3), padding=\"same\", activation=\"relu\"))\n",
        "model.add(layers.Conv2D(filters=512, kernel_size=(3,3), padding=\"same\", activation=\"relu\"))\n",
        "model.add(layers.Conv2D(filters=512, kernel_size=(3,3), padding=\"same\", activation=\"relu\"))\n",
        "model.add(layers.MaxPool2D(pool_size=(2,2),strides=(2,2)))\n",
        "model.add(layers.Conv2D(filters=512, kernel_size=(3,3), padding=\"same\", activation=\"relu\"))\n",
        "model.add(layers.Conv2D(filters=512, kernel_size=(3,3), padding=\"same\", activation=\"relu\"))\n",
        "model.add(layers.Conv2D(filters=512, kernel_size=(3,3), padding=\"same\", activation=\"relu\"))\n",
        "model.add(layers.MaxPool2D(pool_size=(2,2),strides=(2,2)))\n",
        "model.add(layers.Flatten())\n",
        "model.add(layers.Dense(units=4096,activation=\"relu\"))\n",
        "model.add(layers.Dense(units=4096,activation=\"relu\"))\n",
        "model.add(layers.Dense(units=7, activation=\"softmax\"))\n",
        "model.compile(optimizer='sgd',loss='categorical_crossentropy',metrics=['accuracy'])\n",
        "model.summary()"
      ],
      "execution_count": null,
      "outputs": [
        {
          "output_type": "stream",
          "text": [
            "Model: \"sequential\"\n",
            "_________________________________________________________________\n",
            "Layer (type)                 Output Shape              Param #   \n",
            "=================================================================\n",
            "conv2d (Conv2D)              (None, 48, 48, 64)        640       \n",
            "_________________________________________________________________\n",
            "conv2d_1 (Conv2D)            (None, 48, 48, 64)        36928     \n",
            "_________________________________________________________________\n",
            "max_pooling2d (MaxPooling2D) (None, 24, 24, 64)        0         \n",
            "_________________________________________________________________\n",
            "conv2d_2 (Conv2D)            (None, 24, 24, 128)       73856     \n",
            "_________________________________________________________________\n",
            "conv2d_3 (Conv2D)            (None, 24, 24, 128)       147584    \n",
            "_________________________________________________________________\n",
            "max_pooling2d_1 (MaxPooling2 (None, 12, 12, 128)       0         \n",
            "_________________________________________________________________\n",
            "conv2d_4 (Conv2D)            (None, 12, 12, 256)       295168    \n",
            "_________________________________________________________________\n",
            "conv2d_5 (Conv2D)            (None, 12, 12, 256)       590080    \n",
            "_________________________________________________________________\n",
            "conv2d_6 (Conv2D)            (None, 12, 12, 256)       590080    \n",
            "_________________________________________________________________\n",
            "max_pooling2d_2 (MaxPooling2 (None, 6, 6, 256)         0         \n",
            "_________________________________________________________________\n",
            "conv2d_7 (Conv2D)            (None, 6, 6, 512)         1180160   \n",
            "_________________________________________________________________\n",
            "conv2d_8 (Conv2D)            (None, 6, 6, 512)         2359808   \n",
            "_________________________________________________________________\n",
            "conv2d_9 (Conv2D)            (None, 6, 6, 512)         2359808   \n",
            "_________________________________________________________________\n",
            "max_pooling2d_3 (MaxPooling2 (None, 3, 3, 512)         0         \n",
            "_________________________________________________________________\n",
            "conv2d_10 (Conv2D)           (None, 3, 3, 512)         2359808   \n",
            "_________________________________________________________________\n",
            "conv2d_11 (Conv2D)           (None, 3, 3, 512)         2359808   \n",
            "_________________________________________________________________\n",
            "conv2d_12 (Conv2D)           (None, 3, 3, 512)         2359808   \n",
            "_________________________________________________________________\n",
            "max_pooling2d_4 (MaxPooling2 (None, 1, 1, 512)         0         \n",
            "_________________________________________________________________\n",
            "flatten (Flatten)            (None, 512)               0         \n",
            "_________________________________________________________________\n",
            "dense (Dense)                (None, 4096)              2101248   \n",
            "_________________________________________________________________\n",
            "dense_1 (Dense)              (None, 4096)              16781312  \n",
            "_________________________________________________________________\n",
            "dense_2 (Dense)              (None, 7)                 28679     \n",
            "=================================================================\n",
            "Total params: 33,624,775\n",
            "Trainable params: 33,624,775\n",
            "Non-trainable params: 0\n",
            "_________________________________________________________________\n"
          ],
          "name": "stdout"
        }
      ]
    },
    {
      "cell_type": "code",
      "metadata": {
        "id": "pJai9Z2Qnk6w"
      },
      "source": [
        "x_train = training_dataset['image']\n",
        "y_train = training_dataset['label']\n",
        "x_test =  dev_dataset['image']\n",
        "y_test = dev_dataset['label']\n",
        "\n",
        "x_train = x_train.to_numpy()\n",
        "y_train = y_train.to_numpy()\n",
        "x_test = x_test.to_numpy()\n",
        "y_test = y_test.to_numpy()\n",
        "\n",
        "\n",
        "x_train = np.stack(x_train,axis=0)\n",
        "y_train = np.stack(y_train,axis=0)\n",
        "x_test = np.stack(x_test,axis=0)\n",
        "y_test = np.stack(y_test,axis=0)"
      ],
      "execution_count": null,
      "outputs": []
    },
    {
      "cell_type": "code",
      "metadata": {
        "colab": {
          "base_uri": "https://localhost:8080/"
        },
        "id": "7yrA-3R2nnGw",
        "outputId": "efe0ffd3-c147-4048-c1c0-14202b2218f9"
      },
      "source": [
        "datagen = ImageDataGenerator(\n",
        "                        featurewise_center=False,\n",
        "                        featurewise_std_normalization=False,\n",
        "                        rotation_range=10,\n",
        "                        shear_range = 10,\n",
        "                        width_shift_range=0.1,\n",
        "                        height_shift_range=0.1,\n",
        "                        zoom_range=.1,\n",
        "                        horizontal_flip=True)\n",
        "generator=datagen.flow(x_train,y_train,batch_size=32)\n",
        "print(generator.__len__())"
      ],
      "execution_count": null,
      "outputs": [
        {
          "output_type": "stream",
          "text": [
            "1351\n"
          ],
          "name": "stdout"
        }
      ]
    },
    {
      "cell_type": "code",
      "metadata": {
        "id": "De3dnmOznsvn"
      },
      "source": [
        "lr_reducer = ReduceLROnPlateau(monitor='val_loss', factor=0.9, patience=5)\n",
        "early_stopper = EarlyStopping(monitor='val_loss', min_delta=0, patience=30, mode='auto')\n",
        "checkpointer = ModelCheckpoint('/content/gdrive/My Drive/Colab Notebooks/Emotion Recognition/Model/vgg_oversampling.h5', monitor='val_loss', verbose=1, save_best_only=True)"
      ],
      "execution_count": null,
      "outputs": []
    },
    {
      "cell_type": "code",
      "metadata": {
        "colab": {
          "base_uri": "https://localhost:8080/"
        },
        "id": "v3aasmNgn3KN",
        "outputId": "e7ed77a1-7e18-4e13-dce0-d6f67e054bf9"
      },
      "source": [
        "history=model.fit(datagen.flow(x_train, y_train, batch_size=32),batch_size=32,epochs=150,verbose=1,validation_data=(x_test, y_test),callbacks=[lr_reducer,early_stopper,checkpointer])\n"
      ],
      "execution_count": null,
      "outputs": [
        {
          "output_type": "stream",
          "text": [
            "Epoch 1/150\n",
            "1351/1351 [==============================] - 34s 25ms/step - loss: 1.7791 - accuracy: 0.2107 - val_loss: 1.6963 - val_accuracy: 0.2840\n",
            "\n",
            "Epoch 00001: val_loss improved from inf to 1.69630, saving model to /content/gdrive/My Drive/Colab Notebooks/Emotion Recognition/Model/vgg_oversampling.h5\n",
            "Epoch 2/150\n",
            "1351/1351 [==============================] - 33s 25ms/step - loss: 1.6706 - accuracy: 0.3005 - val_loss: 1.5318 - val_accuracy: 0.3860\n",
            "\n",
            "Epoch 00002: val_loss improved from 1.69630 to 1.53184, saving model to /content/gdrive/My Drive/Colab Notebooks/Emotion Recognition/Model/vgg_oversampling.h5\n",
            "Epoch 3/150\n",
            "1351/1351 [==============================] - 33s 25ms/step - loss: 1.5511 - accuracy: 0.3714 - val_loss: 1.4258 - val_accuracy: 0.4318\n",
            "\n",
            "Epoch 00003: val_loss improved from 1.53184 to 1.42580, saving model to /content/gdrive/My Drive/Colab Notebooks/Emotion Recognition/Model/vgg_oversampling.h5\n",
            "Epoch 4/150\n",
            "1351/1351 [==============================] - 33s 25ms/step - loss: 1.4601 - accuracy: 0.4153 - val_loss: 1.4070 - val_accuracy: 0.4331\n",
            "\n",
            "Epoch 00004: val_loss improved from 1.42580 to 1.40695, saving model to /content/gdrive/My Drive/Colab Notebooks/Emotion Recognition/Model/vgg_oversampling.h5\n",
            "Epoch 5/150\n",
            "1351/1351 [==============================] - 33s 25ms/step - loss: 1.3742 - accuracy: 0.4544 - val_loss: 1.2803 - val_accuracy: 0.4950\n",
            "\n",
            "Epoch 00005: val_loss improved from 1.40695 to 1.28031, saving model to /content/gdrive/My Drive/Colab Notebooks/Emotion Recognition/Model/vgg_oversampling.h5\n",
            "Epoch 6/150\n",
            "1351/1351 [==============================] - 33s 25ms/step - loss: 1.2985 - accuracy: 0.4854 - val_loss: 1.2496 - val_accuracy: 0.5004\n",
            "\n",
            "Epoch 00006: val_loss improved from 1.28031 to 1.24961, saving model to /content/gdrive/My Drive/Colab Notebooks/Emotion Recognition/Model/vgg_oversampling.h5\n",
            "Epoch 7/150\n",
            "1351/1351 [==============================] - 33s 25ms/step - loss: 1.2364 - accuracy: 0.5164 - val_loss: 1.1729 - val_accuracy: 0.5337\n",
            "\n",
            "Epoch 00007: val_loss improved from 1.24961 to 1.17295, saving model to /content/gdrive/My Drive/Colab Notebooks/Emotion Recognition/Model/vgg_oversampling.h5\n",
            "Epoch 8/150\n",
            "1351/1351 [==============================] - 33s 25ms/step - loss: 1.1820 - accuracy: 0.5397 - val_loss: 1.1285 - val_accuracy: 0.5577\n",
            "\n",
            "Epoch 00008: val_loss improved from 1.17295 to 1.12849, saving model to /content/gdrive/My Drive/Colab Notebooks/Emotion Recognition/Model/vgg_oversampling.h5\n",
            "Epoch 9/150\n",
            "1351/1351 [==============================] - 33s 25ms/step - loss: 1.1417 - accuracy: 0.5555 - val_loss: 1.1423 - val_accuracy: 0.5601\n",
            "\n",
            "Epoch 00009: val_loss did not improve from 1.12849\n",
            "Epoch 10/150\n",
            "1351/1351 [==============================] - 33s 25ms/step - loss: 1.1104 - accuracy: 0.5725 - val_loss: 1.0813 - val_accuracy: 0.5818\n",
            "\n",
            "Epoch 00010: val_loss improved from 1.12849 to 1.08135, saving model to /content/gdrive/My Drive/Colab Notebooks/Emotion Recognition/Model/vgg_oversampling.h5\n",
            "Epoch 11/150\n",
            "1351/1351 [==============================] - 33s 25ms/step - loss: 1.0730 - accuracy: 0.5861 - val_loss: 1.0602 - val_accuracy: 0.5912\n",
            "\n",
            "Epoch 00011: val_loss improved from 1.08135 to 1.06016, saving model to /content/gdrive/My Drive/Colab Notebooks/Emotion Recognition/Model/vgg_oversampling.h5\n",
            "Epoch 12/150\n",
            "1351/1351 [==============================] - 33s 25ms/step - loss: 1.0464 - accuracy: 0.5959 - val_loss: 1.0545 - val_accuracy: 0.5949\n",
            "\n",
            "Epoch 00012: val_loss improved from 1.06016 to 1.05455, saving model to /content/gdrive/My Drive/Colab Notebooks/Emotion Recognition/Model/vgg_oversampling.h5\n",
            "Epoch 13/150\n",
            "1351/1351 [==============================] - 33s 25ms/step - loss: 1.0233 - accuracy: 0.6046 - val_loss: 1.0613 - val_accuracy: 0.5942\n",
            "\n",
            "Epoch 00013: val_loss did not improve from 1.05455\n",
            "Epoch 14/150\n",
            "1351/1351 [==============================] - 33s 25ms/step - loss: 0.9971 - accuracy: 0.6164 - val_loss: 1.0333 - val_accuracy: 0.6053\n",
            "\n",
            "Epoch 00014: val_loss improved from 1.05455 to 1.03328, saving model to /content/gdrive/My Drive/Colab Notebooks/Emotion Recognition/Model/vgg_oversampling.h5\n",
            "Epoch 15/150\n",
            "1351/1351 [==============================] - 33s 25ms/step - loss: 0.9763 - accuracy: 0.6262 - val_loss: 1.1054 - val_accuracy: 0.5795\n",
            "\n",
            "Epoch 00015: val_loss did not improve from 1.03328\n",
            "Epoch 16/150\n",
            "1351/1351 [==============================] - 33s 25ms/step - loss: 0.9536 - accuracy: 0.6364 - val_loss: 1.0590 - val_accuracy: 0.6010\n",
            "\n",
            "Epoch 00016: val_loss did not improve from 1.03328\n",
            "Epoch 17/150\n",
            "1351/1351 [==============================] - 33s 25ms/step - loss: 0.9340 - accuracy: 0.6453 - val_loss: 1.0440 - val_accuracy: 0.6068\n",
            "\n",
            "Epoch 00017: val_loss did not improve from 1.03328\n",
            "Epoch 18/150\n",
            "1351/1351 [==============================] - 33s 25ms/step - loss: 0.9126 - accuracy: 0.6502 - val_loss: 1.0869 - val_accuracy: 0.6077\n",
            "\n",
            "Epoch 00018: val_loss did not improve from 1.03328\n",
            "Epoch 19/150\n",
            "1351/1351 [==============================] - 33s 25ms/step - loss: 0.8947 - accuracy: 0.6606 - val_loss: 1.0293 - val_accuracy: 0.6246\n",
            "\n",
            "Epoch 00019: val_loss improved from 1.03328 to 1.02927, saving model to /content/gdrive/My Drive/Colab Notebooks/Emotion Recognition/Model/vgg_oversampling.h5\n",
            "Epoch 20/150\n",
            "1351/1351 [==============================] - 33s 25ms/step - loss: 0.8793 - accuracy: 0.6655 - val_loss: 1.0190 - val_accuracy: 0.6250\n",
            "\n",
            "Epoch 00020: val_loss improved from 1.02927 to 1.01896, saving model to /content/gdrive/My Drive/Colab Notebooks/Emotion Recognition/Model/vgg_oversampling.h5\n",
            "Epoch 21/150\n",
            "1351/1351 [==============================] - 33s 25ms/step - loss: 0.8610 - accuracy: 0.6754 - val_loss: 1.0199 - val_accuracy: 0.6281\n",
            "\n",
            "Epoch 00021: val_loss did not improve from 1.01896\n",
            "Epoch 22/150\n",
            "1351/1351 [==============================] - 33s 25ms/step - loss: 0.8382 - accuracy: 0.6842 - val_loss: 1.0350 - val_accuracy: 0.6194\n",
            "\n",
            "Epoch 00022: val_loss did not improve from 1.01896\n",
            "Epoch 23/150\n",
            "1351/1351 [==============================] - 33s 25ms/step - loss: 0.8228 - accuracy: 0.6907 - val_loss: 1.0567 - val_accuracy: 0.6231\n",
            "\n",
            "Epoch 00023: val_loss did not improve from 1.01896\n",
            "Epoch 24/150\n",
            "1351/1351 [==============================] - 33s 25ms/step - loss: 0.8074 - accuracy: 0.6956 - val_loss: 1.1490 - val_accuracy: 0.6161\n",
            "\n",
            "Epoch 00024: val_loss did not improve from 1.01896\n",
            "Epoch 25/150\n",
            "1351/1351 [==============================] - 33s 25ms/step - loss: 0.7933 - accuracy: 0.7020 - val_loss: 0.9815 - val_accuracy: 0.6429\n",
            "\n",
            "Epoch 00025: val_loss improved from 1.01896 to 0.98151, saving model to /content/gdrive/My Drive/Colab Notebooks/Emotion Recognition/Model/vgg_oversampling.h5\n",
            "Epoch 26/150\n",
            "1351/1351 [==============================] - 33s 25ms/step - loss: 0.7762 - accuracy: 0.7098 - val_loss: 1.0962 - val_accuracy: 0.6162\n",
            "\n",
            "Epoch 00026: val_loss did not improve from 0.98151\n",
            "Epoch 27/150\n",
            "1351/1351 [==============================] - 33s 25ms/step - loss: 0.7616 - accuracy: 0.7131 - val_loss: 1.0452 - val_accuracy: 0.6300\n",
            "\n",
            "Epoch 00027: val_loss did not improve from 0.98151\n",
            "Epoch 28/150\n",
            "1351/1351 [==============================] - 33s 25ms/step - loss: 0.7465 - accuracy: 0.7211 - val_loss: 1.0167 - val_accuracy: 0.6389\n",
            "\n",
            "Epoch 00028: val_loss did not improve from 0.98151\n",
            "Epoch 29/150\n",
            "1351/1351 [==============================] - 33s 25ms/step - loss: 0.7335 - accuracy: 0.7255 - val_loss: 1.0231 - val_accuracy: 0.6275\n",
            "\n",
            "Epoch 00029: val_loss did not improve from 0.98151\n",
            "Epoch 30/150\n",
            "1351/1351 [==============================] - 33s 25ms/step - loss: 0.7174 - accuracy: 0.7333 - val_loss: 1.0524 - val_accuracy: 0.6361\n",
            "\n",
            "Epoch 00030: val_loss did not improve from 0.98151\n",
            "Epoch 31/150\n",
            "1351/1351 [==============================] - 33s 25ms/step - loss: 0.6859 - accuracy: 0.7461 - val_loss: 1.0485 - val_accuracy: 0.6442\n",
            "\n",
            "Epoch 00031: val_loss did not improve from 0.98151\n",
            "Epoch 32/150\n",
            "1351/1351 [==============================] - 33s 25ms/step - loss: 0.6702 - accuracy: 0.7524 - val_loss: 1.0228 - val_accuracy: 0.6516\n",
            "\n",
            "Epoch 00032: val_loss did not improve from 0.98151\n",
            "Epoch 33/150\n",
            "1351/1351 [==============================] - 33s 25ms/step - loss: 0.6484 - accuracy: 0.7624 - val_loss: 1.1095 - val_accuracy: 0.6368\n",
            "\n",
            "Epoch 00033: val_loss did not improve from 0.98151\n",
            "Epoch 34/150\n",
            "1351/1351 [==============================] - 33s 25ms/step - loss: 0.6411 - accuracy: 0.7629 - val_loss: 1.1013 - val_accuracy: 0.6316\n",
            "\n",
            "Epoch 00034: val_loss did not improve from 0.98151\n",
            "Epoch 35/150\n",
            "1351/1351 [==============================] - 33s 25ms/step - loss: 0.6308 - accuracy: 0.7677 - val_loss: 1.1413 - val_accuracy: 0.6479\n",
            "\n",
            "Epoch 00035: val_loss did not improve from 0.98151\n",
            "Epoch 36/150\n",
            "1351/1351 [==============================] - 33s 25ms/step - loss: 0.6002 - accuracy: 0.7793 - val_loss: 1.0972 - val_accuracy: 0.6529\n",
            "\n",
            "Epoch 00036: val_loss did not improve from 0.98151\n",
            "Epoch 37/150\n",
            "1351/1351 [==============================] - 33s 25ms/step - loss: 0.5851 - accuracy: 0.7860 - val_loss: 1.0556 - val_accuracy: 0.6529\n",
            "\n",
            "Epoch 00037: val_loss did not improve from 0.98151\n",
            "Epoch 38/150\n",
            "1351/1351 [==============================] - 33s 25ms/step - loss: 0.5780 - accuracy: 0.7882 - val_loss: 1.1210 - val_accuracy: 0.6333\n",
            "\n",
            "Epoch 00038: val_loss did not improve from 0.98151\n",
            "Epoch 39/150\n",
            "1351/1351 [==============================] - 33s 25ms/step - loss: 0.5609 - accuracy: 0.7952 - val_loss: 1.0884 - val_accuracy: 0.6604\n",
            "\n",
            "Epoch 00039: val_loss did not improve from 0.98151\n",
            "Epoch 40/150\n",
            "1351/1351 [==============================] - 33s 25ms/step - loss: 0.5482 - accuracy: 0.8005 - val_loss: 1.1218 - val_accuracy: 0.6481\n",
            "\n",
            "Epoch 00040: val_loss did not improve from 0.98151\n",
            "Epoch 41/150\n",
            "1351/1351 [==============================] - 33s 25ms/step - loss: 0.5241 - accuracy: 0.8099 - val_loss: 1.1338 - val_accuracy: 0.6535\n",
            "\n",
            "Epoch 00041: val_loss did not improve from 0.98151\n",
            "Epoch 42/150\n",
            "1351/1351 [==============================] - 33s 25ms/step - loss: 0.5108 - accuracy: 0.8144 - val_loss: 1.1694 - val_accuracy: 0.6594\n",
            "\n",
            "Epoch 00042: val_loss did not improve from 0.98151\n",
            "Epoch 43/150\n",
            "1351/1351 [==============================] - 33s 25ms/step - loss: 0.4981 - accuracy: 0.8185 - val_loss: 1.2320 - val_accuracy: 0.6531\n",
            "\n",
            "Epoch 00043: val_loss did not improve from 0.98151\n",
            "Epoch 44/150\n",
            "1351/1351 [==============================] - 33s 25ms/step - loss: 0.4875 - accuracy: 0.8223 - val_loss: 1.2131 - val_accuracy: 0.6550\n",
            "\n",
            "Epoch 00044: val_loss did not improve from 0.98151\n",
            "Epoch 45/150\n",
            "1351/1351 [==============================] - 33s 25ms/step - loss: 0.4789 - accuracy: 0.8250 - val_loss: 1.1849 - val_accuracy: 0.6537\n",
            "\n",
            "Epoch 00045: val_loss did not improve from 0.98151\n",
            "Epoch 46/150\n",
            "1351/1351 [==============================] - 33s 25ms/step - loss: 0.4500 - accuracy: 0.8365 - val_loss: 1.2638 - val_accuracy: 0.6466\n",
            "\n",
            "Epoch 00046: val_loss did not improve from 0.98151\n",
            "Epoch 47/150\n",
            "1351/1351 [==============================] - 33s 25ms/step - loss: 0.4422 - accuracy: 0.8407 - val_loss: 1.2383 - val_accuracy: 0.6394\n",
            "\n",
            "Epoch 00047: val_loss did not improve from 0.98151\n",
            "Epoch 48/150\n",
            "1351/1351 [==============================] - 33s 25ms/step - loss: 0.4321 - accuracy: 0.8455 - val_loss: 1.2471 - val_accuracy: 0.6472\n",
            "\n",
            "Epoch 00048: val_loss did not improve from 0.98151\n",
            "Epoch 49/150\n",
            "1351/1351 [==============================] - 33s 25ms/step - loss: 0.4231 - accuracy: 0.8467 - val_loss: 1.1773 - val_accuracy: 0.6707\n",
            "\n",
            "Epoch 00049: val_loss did not improve from 0.98151\n",
            "Epoch 50/150\n",
            "1351/1351 [==============================] - 33s 25ms/step - loss: 0.4156 - accuracy: 0.8491 - val_loss: 1.1970 - val_accuracy: 0.6570\n",
            "\n",
            "Epoch 00050: val_loss did not improve from 0.98151\n",
            "Epoch 51/150\n",
            "1351/1351 [==============================] - 33s 25ms/step - loss: 0.3880 - accuracy: 0.8618 - val_loss: 1.2691 - val_accuracy: 0.6568\n",
            "\n",
            "Epoch 00051: val_loss did not improve from 0.98151\n",
            "Epoch 52/150\n",
            "1351/1351 [==============================] - 33s 25ms/step - loss: 0.3849 - accuracy: 0.8630 - val_loss: 1.3124 - val_accuracy: 0.6500\n",
            "\n",
            "Epoch 00052: val_loss did not improve from 0.98151\n",
            "Epoch 53/150\n",
            "1351/1351 [==============================] - 33s 25ms/step - loss: 0.3709 - accuracy: 0.8673 - val_loss: 1.3701 - val_accuracy: 0.6676\n",
            "\n",
            "Epoch 00053: val_loss did not improve from 0.98151\n",
            "Epoch 54/150\n",
            "1351/1351 [==============================] - 33s 25ms/step - loss: 0.3597 - accuracy: 0.8707 - val_loss: 1.3591 - val_accuracy: 0.6557\n",
            "\n",
            "Epoch 00054: val_loss did not improve from 0.98151\n",
            "Epoch 55/150\n",
            "1351/1351 [==============================] - 33s 25ms/step - loss: 0.3603 - accuracy: 0.8717 - val_loss: 1.4681 - val_accuracy: 0.6511\n",
            "\n",
            "Epoch 00055: val_loss did not improve from 0.98151\n"
          ],
          "name": "stdout"
        }
      ]
    },
    {
      "cell_type": "code",
      "metadata": {
        "colab": {
          "base_uri": "https://localhost:8080/",
          "height": 591
        },
        "id": "qX_EEEZ60Xs2",
        "outputId": "c9a9879f-9e35-4776-bb6d-f136d3f1ffa7"
      },
      "source": [
        "import matplotlib.pyplot as plt\n",
        "# list all data in history\n",
        "print(history.history.keys())\n",
        "# summarize history for accuracy\n",
        "plt.plot(history.history['accuracy'])\n",
        "plt.plot(history.history['val_accuracy'])\n",
        "plt.title('model accuracy')\n",
        "plt.ylabel('accuracy')\n",
        "plt.xlabel('epoch')\n",
        "plt.legend(['train', 'test'], loc='upper left')\n",
        "plt.show()\n",
        "# summarize history for loss\n",
        "plt.plot(history.history['loss'])\n",
        "plt.plot(history.history['val_loss'])\n",
        "plt.title('model loss')\n",
        "plt.ylabel('loss')\n",
        "plt.xlabel('epoch')\n",
        "plt.legend(['train', 'test'], loc='upper left')\n",
        "plt.show()"
      ],
      "execution_count": null,
      "outputs": [
        {
          "output_type": "stream",
          "text": [
            "dict_keys(['loss', 'accuracy', 'val_loss', 'val_accuracy', 'lr'])\n"
          ],
          "name": "stdout"
        },
        {
          "output_type": "display_data",
          "data": {
            "image/png": "[encoded data removed]",
            "text/plain": [
              "<Figure size 432x288 with 1 Axes>"
            ]
          },
          "metadata": {
            "tags": [],
            "needs_background": "light"
          }
        },
        {
          "output_type": "display_data",
          "data": {
            "image/png": "[encoded data removed]",
            "text/plain": [
              "<Figure size 432x288 with 1 Axes>"
            ]
          },
          "metadata": {
            "tags": [],
            "needs_background": "light"
          }
        }
      ]
    },
    {
      "cell_type": "code",
      "metadata": {
        "id": "YQTQ7ULM0jsh"
      },
      "source": [
        "x_test =  test_dataset['image']\n",
        "y_test = test_dataset['label']\n",
        "\n",
        "#Pandas dataframe to numpy\n",
        "x_test = x_test.to_numpy()\n",
        "y_test = y_test.to_numpy()\n",
        "\n",
        "#numpy array reshape to fit into model\n",
        "x_test = np.stack(x_test,axis=0)\n",
        "y_test = np.stack(y_test,axis=0)"
      ],
      "execution_count": null,
      "outputs": []
    },
    {
      "cell_type": "code",
      "metadata": {
        "colab": {
          "base_uri": "https://localhost:8080/"
        },
        "id": "Zg79lTDc0lUP",
        "outputId": "01fe51d7-83a0-4b06-b82a-161090eb6cab"
      },
      "source": [
        "model.evaluate(x_test,y_test)\n"
      ],
      "execution_count": null,
      "outputs": [
        {
          "output_type": "stream",
          "text": [
            "169/169 [==============================] - 2s 10ms/step - loss: 1.3747 - accuracy: 0.6552\n"
          ],
          "name": "stdout"
        },
        {
          "output_type": "execute_result",
          "data": {
            "text/plain": [
              "[1.3746721744537354, 0.6552426815032959]"
            ]
          },
          "metadata": {
            "tags": []
          },
          "execution_count": 18
        }
      ]
    }
  ]
}